{
 "cells": [
  {
   "cell_type": "markdown",
   "metadata": {},
   "source": [
    "# Using AutoSDF\n",
    "\n",
    "Use this file to generate 3D models using AutoSDF\n",
    "Make sure the AutoSDF repository is located in in the same parent directory as `completiontools-evaluation`"
   ]
  },
  {
   "cell_type": "markdown",
   "metadata": {},
   "source": [
    "## Importing and set-up"
   ]
  },
  {
   "cell_type": "code",
   "execution_count": null,
   "metadata": {},
   "outputs": [],
   "source": [
    "# Import packages and Setup everything\n",
    "import os\n",
    "import json\n",
    "import torch\n",
    "import pytorch3d.io\n",
    "import sys\n",
    "import comptools\n",
    "# some utility function for visualization from AutoSDF\n",
    "sys.path.insert(0, '../')\n",
    "import AutoSDF.utils as utils\n",
    "from AutoSDF.utils.util_3d import init_mesh_renderer, sdf_to_mesh\n",
    "from AutoSDF.utils.demo_util import get_shape_comp_opt\n",
    "from AutoSDF.utils.demo_util import get_shape_comp_model\n",
    "from AutoSDF.utils.qual_util import save_mesh_as_gif, save_meshes_to_file, get_partial_shape_by_voxels, get_partial_shape_by_range, get_shape_comp_input_mesh\n",
    "from IPython.display import Image as ipy_image\n",
    "from IPython.display import display\n",
    "\n",
    "# enable hot reloading\n",
    "%reload_ext autoreload\n",
    "%autoreload 2\n",
    "\n",
    "# set up the results directory\n",
    "res_dir = 'results'\n",
    "if not os.path.exists(res_dir): os.mkdir(res_dir)\n",
    "\n",
    "# Define the options, in this case which GPU we want to use\n",
    "gpu_id = 2\n",
    "opt = get_shape_comp_opt(gpu_id=gpu_id)\n",
    "print(opt.device)\n",
    "\n",
    "# Setup the object completion model\n",
    "model = get_shape_comp_model(opt, root = \"../AutoSDF\")    \n",
    "model.eval()\n",
    "\n",
    "# Setup the renderer to display gifs\n",
    "dist, elev, azim = 1.7, 20, 110\n",
    "mesh_renderer = init_mesh_renderer(image_size=256, dist=dist, elev=elev, azim=azim, device=opt.device)"
   ]
  },
  {
   "cell_type": "markdown",
   "metadata": {},
   "source": [
    "## One-click-generation"
   ]
  },
  {
   "cell_type": "code",
   "execution_count": null,
   "metadata": {},
   "outputs": [],
   "source": [
    "sdfPath = \"/srvgentjkd98p2/L/Recordings/2015-01 ShapeNetCore/03001627/1a8bbf2994788e2743e99e0cae970928/models/model_normalized_sdf.pt\"\n",
    "jsonPath = '../AutoSDF/demo_data/voxelgrid_half.txt'\n",
    "\n",
    "# Get the shape completion input\n",
    "print(\"Getting the shape completion input\")\n",
    "sdf = torch.load(sdfPath,map_location=torch.device(opt.device))\n",
    "occ_grid = comptools.read_voxel_file(jsonPath)\n",
    "shape_comp_input = get_partial_shape_by_voxels(sdf, occ_grid, device=opt.device)\n",
    "\n",
    "# Define the incomplete mesh\n",
    "print(\"perform shape completion\")\n",
    "input_mesh = get_shape_comp_input_mesh(shape_comp_input['sdf'], shape_comp_input['sdf_missing'])\n",
    "input_mesh, comp_sdf = model.shape_comp(shape_comp_input, bs=3, topk=30)\n",
    "gen_mesh = sdf_to_mesh(comp_sdf)          # completed shape\n",
    "\n",
    "# save as gif\n",
    "gen_gif_name = f'{res_dir}/shape-comp-struct-input-gen.gif'\n",
    "save_mesh_as_gif(mesh_renderer, gen_mesh, nrow=3, out_name=gen_gif_name,device = opt.device)\n",
    "display(ipy_image(gen_gif_name))\n",
    "\n",
    "# Save to files\n",
    "print(\"Saving Meshes\")\n",
    "save_meshes_to_file(gen_mesh, res_dir)\n",
    "\n",
    "print(\"Done\")"
   ]
  },
  {
   "cell_type": "markdown",
   "metadata": {},
   "source": [
    "# Step-by-step"
   ]
  },
  {
   "cell_type": "markdown",
   "metadata": {},
   "source": [
    "## Import the SDF"
   ]
  },
  {
   "cell_type": "code",
   "execution_count": 2,
   "metadata": {},
   "outputs": [],
   "source": [
    "#sdfPath = \"/srvgentjkd98p2/L/Recordings/2015-01 ShapeNetCore/03001627/1a8bbf2994788e2743e99e0cae970928/models/model_normalized_sdf.pt\"\n",
    "sdfPath = \"/home/jvermandere/datasets/Paper_examples/Experiment_meshes/cabinet_meshsdf.pt\"\n",
    "sdf = torch.load(sdfPath,map_location=torch.device(opt.device))"
   ]
  },
  {
   "cell_type": "code",
   "execution_count": null,
   "metadata": {},
   "outputs": [],
   "source": [
    "gen_sdf_as_mesh = sdf_to_mesh(sdf) \n",
    "\n",
    "# save as gif\n",
    "gif_name = f'{res_dir}/shape-example.gif'\n",
    "#save_mesh_as_gif(mesh_renderer, gen_sdf_as_mesh, nrow=1, out_name=gif_name)\n",
    "ipy_image(gif_name)"
   ]
  },
  {
   "cell_type": "markdown",
   "metadata": {},
   "source": [
    "## Get The Partial Range"
   ]
  },
  {
   "cell_type": "markdown",
   "metadata": {},
   "source": [
    "### By Voxels"
   ]
  },
  {
   "cell_type": "code",
   "execution_count": 5,
   "metadata": {},
   "outputs": [],
   "source": [
    "# Load the JSON file\n",
    "with open('./demo_data/voxelgrid_half.txt', 'r') as file:\n",
    "    data = json.load(file)\n",
    "voxels = data['voxels']\n",
    "occ_grid = []\n",
    "for voxel in voxels:\n",
    "    id = voxel['gridIndex']\n",
    "    occ_grid.append([id['x'], id['y'], id['z']])\n",
    "\n",
    "shape_comp_input = get_partial_shape_by_voxels(sdf, occ_grid, device=opt.device)"
   ]
  },
  {
   "cell_type": "markdown",
   "metadata": {},
   "source": [
    "### By Range"
   ]
  },
  {
   "cell_type": "code",
   "execution_count": null,
   "metadata": {},
   "outputs": [],
   "source": [
    "completionPercent = \"50\"\n",
    "# range: -1 ~ 1.\n",
    "# x: left-to-right; y: bottom-to-top; z: front-to-back\n",
    "min_x, max_x = 0., 1.\n",
    "min_y, max_y = -1, 1.\n",
    "min_z, max_z = -1., 1.\n",
    "input_range = {'x1': min_x, 'x2': max_x, 'y1': min_y, 'y2': max_y, 'z1': min_z, 'z2': max_z}\n",
    "\n",
    "shape_comp_input = get_partial_shape_by_range(sdf, input_range)"
   ]
  },
  {
   "cell_type": "markdown",
   "metadata": {},
   "source": [
    "### Get Partial Mesh"
   ]
  },
  {
   "cell_type": "code",
   "execution_count": null,
   "metadata": {},
   "outputs": [],
   "source": [
    "input_mesh = get_shape_comp_input_mesh(shape_comp_input['sdf'], shape_comp_input['sdf_missing'])\n",
    "\n",
    "# save as gif\n",
    "gif_name = f'{res_dir}/shape-comp-struct-input-inp.gif'\n",
    "save_mesh_as_gif(mesh_renderer, input_mesh, nrow=1, out_name=gif_name, device = opt.device)\n",
    "display(ipy_image(gif_name))"
   ]
  },
  {
   "cell_type": "markdown",
   "metadata": {},
   "source": [
    "## Shape Completion"
   ]
  },
  {
   "cell_type": "code",
   "execution_count": null,
   "metadata": {},
   "outputs": [],
   "source": [
    "\"\"\" perform shape completion \"\"\"\n",
    "input_mesh, comp_sdf = model.shape_comp(shape_comp_input, bs=3, topk=30)\n",
    "gen_mesh = sdf_to_mesh(comp_sdf)          # completed shape\n",
    "\n",
    "# save as gif\n",
    "gen_gif_name = f'{res_dir}/shape-comp-struct-input-gen.gif'\n",
    "save_mesh_as_gif(mesh_renderer, gen_mesh, nrow=3, out_name=gen_gif_name,device = opt.device)\n",
    "display(ipy_image(gen_gif_name))"
   ]
  }
 ],
 "metadata": {
  "kernelspec": {
   "display_name": "autosdf",
   "language": "python",
   "name": "python3"
  },
  "language_info": {
   "codemirror_mode": {
    "name": "ipython",
    "version": 3
   },
   "file_extension": ".py",
   "mimetype": "text/x-python",
   "name": "python",
   "nbconvert_exporter": "python",
   "pygments_lexer": "ipython3",
   "version": "3.8.11"
  }
 },
 "nbformat": 4,
 "nbformat_minor": 2
}
