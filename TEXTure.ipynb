{
 "cells": [
  {
   "cell_type": "markdown",
   "metadata": {},
   "source": [
    "# Using TEXTure\n",
    "\n",
    "Use this file to generate textures for 3D models using TEXTure\n",
    "Make sure the TEXTurePaper repository is located in in the same parent directory as `completiontools-evaluation`"
   ]
  },
  {
   "cell_type": "markdown",
   "metadata": {},
   "source": [
    "## Inputs\n",
    "\n",
    "- a complete mesh with missing texture\n",
    "- The missing parts of the texture are highlighted with a mask"
   ]
  },
  {
   "cell_type": "markdown",
   "metadata": {},
   "source": [
    "#### Scribble-based editing\n",
    "\n",
    "Refine only specific regions based on the scribbles generated on the image. \n",
    "\n",
    "To use pass both `guide.initial_texture`\n",
    "and `guide.reference_texture` arguments. Region to `refine` will be defined based on the difference between the two\n",
    "maps, with the actual colors in `reference_texture` guiding the editing process.\n",
    "\n",
    "```bash\n",
    "python -m scripts.run_texture --config_path=configs/texture_edit/scribble_on_bunny.yaml\n",
    "```"
   ]
  },
  {
   "cell_type": "code",
   "execution_count": null,
   "metadata": {
    "vscode": {
     "languageId": "plaintext"
    }
   },
   "outputs": [],
   "source": []
  }
 ],
 "metadata": {
  "language_info": {
   "name": "python"
  }
 },
 "nbformat": 4,
 "nbformat_minor": 2
}
