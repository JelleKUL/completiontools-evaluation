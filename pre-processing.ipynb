{
 "cells": [
  {
   "cell_type": "markdown",
   "metadata": {},
   "source": [
    "# Paper Data Processing"
   ]
  },
  {
   "cell_type": "markdown",
   "metadata": {},
   "source": [
    "## Mesh to SDF"
   ]
  },
  {
   "cell_type": "code",
   "execution_count": null,
   "metadata": {},
   "outputs": [],
   "source": [
    "# The path to the mesh file\n",
    "meshPath = r\"/path\"\n",
    "saveFolder = r\"../sdf_data\"\n",
    "\n",
    "voxelGridSize = 64"
   ]
  },
  {
   "cell_type": "code",
   "execution_count": null,
   "metadata": {},
   "outputs": [],
   "source": [
    "import trimesh\n",
    "import os\n",
    "import comptools\n",
    "\n",
    "mesh = trimesh.load(meshPath)\n",
    "meshName = meshPath.split('\\\\')[-1][:-4]\n",
    "savePath = os.path.join(saveFolder, meshName)\n",
    "comptools.make_dir_if_not_exist(savePath)"
   ]
  },
  {
   "cell_type": "markdown",
   "metadata": {},
   "source": [
    "### Display the mesh (Optional)"
   ]
  },
  {
   "cell_type": "code",
   "execution_count": null,
   "metadata": {},
   "outputs": [],
   "source": [
    "mesh.show()"
   ]
  },
  {
   "cell_type": "markdown",
   "metadata": {},
   "source": [
    "### SDF Creation"
   ]
  },
  {
   "cell_type": "code",
   "execution_count": null,
   "metadata": {},
   "outputs": [],
   "source": [
    "import torch\n",
    "import numpy as np\n",
    "import time\n",
    "\n",
    "t0 = time.time() # keep track of how long the process takes\n",
    "sdf,sdfMesh = comptools.mesh_to_sdf_tensor(comptools.as_mesh(mesh), voxelGridSize, recenter=False, scaledownFactor=8)\n",
    "\n",
    "fixedMeshPath = os.path.join(savePath,\"sdf.obj\")\n",
    "sdfPath = fixedMeshPath[:-4] + \".npy\"\n",
    "tfPath = fixedMeshPath[:-4] + \".pt\"\n",
    "\n",
    "# output\n",
    "mesh.export(os.path.join(savePath, \"gt.obj\"))\n",
    "sdfMesh.export(fixedMeshPath)\n",
    "np.save(sdfPath, sdf)\n",
    "# Tensor\n",
    "shapedData = np.reshape(sdf, [1, 1, 64, 64, 64])\n",
    "torch.save(torch.from_numpy(shapedData[:,:,:64,:64,:64]), tfPath)\n",
    "\n",
    "t1 = time.time()\n",
    "print('It takes %.4f seconds to process' % (t1-t0))\n",
    "sdfMesh.show()"
   ]
  }
 ],
 "metadata": {
  "kernelspec": {
   "display_name": "env",
   "language": "python",
   "name": "python3"
  },
  "language_info": {
   "codemirror_mode": {
    "name": "ipython",
    "version": 3
   },
   "file_extension": ".py",
   "mimetype": "text/x-python",
   "name": "python",
   "nbconvert_exporter": "python",
   "pygments_lexer": "ipython3",
   "version": "3.10.11"
  }
 },
 "nbformat": 4,
 "nbformat_minor": 2
}
