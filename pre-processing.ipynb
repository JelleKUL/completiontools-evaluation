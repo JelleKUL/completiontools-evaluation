{
 "cells": [
  {
   "cell_type": "markdown",
   "metadata": {},
   "source": [
    "# Paper Data Processing"
   ]
  },
  {
   "cell_type": "markdown",
   "metadata": {},
   "source": [
    "## Mesh to SDF"
   ]
  },
  {
   "cell_type": "code",
   "execution_count": 43,
   "metadata": {},
   "outputs": [],
   "source": [
    "# The path to the mesh file\n",
    "meshPath = r\"data\\GroteSilo_Downsample.obj\"\n",
    "saveFolder = r\"data\"\n",
    "\n",
    "voxelGridSize = 64"
   ]
  },
  {
   "cell_type": "code",
   "execution_count": 44,
   "metadata": {},
   "outputs": [],
   "source": [
    "import trimesh\n",
    "import os\n",
    "import comptools\n",
    "from alphashape import alphashape\n",
    "mesh = trimesh.load(meshPath)\n",
    "meshName = meshPath.split('\\\\')[-1][:-4]\n",
    "savePath = os.path.join(saveFolder, meshName)\n",
    "comptools.make_dir_if_not_exist(savePath)"
   ]
  },
  {
   "cell_type": "markdown",
   "metadata": {},
   "source": [
    "### Display the mesh (Optional)"
   ]
  },
  {
   "cell_type": "code",
   "execution_count": null,
   "metadata": {},
   "outputs": [],
   "source": [
    "import math\n",
    "import trimesh.transformations as transformations\n",
    "\n",
    "# Recenter the mesh to the origin\n",
    "mesh.apply_translation(-mesh.bounding_box.centroid)\n",
    "\n",
    "# Normalize the scale of the mesh\n",
    "# Scale so the bounding box fits within a unit cube\n",
    "bounding_box_extents = mesh.bounding_box.extents\n",
    "scale_factor = 1.0 / max(bounding_box_extents)\n",
    "mesh.apply_scale(scale_factor)\n",
    "\n",
    "angle = -math.pi/2\n",
    "#direction = [1, 0, 0]\n",
    "direction = [0, 1, 0]\n",
    "center = [0, 0, 0]\n",
    "\n",
    "rot_matrix = transformations.rotation_matrix(angle, direction, center)\n",
    "\n",
    "mesh.apply_transform(rot_matrix)\n",
    "mesh.show()"
   ]
  },
  {
   "cell_type": "code",
   "execution_count": null,
   "metadata": {},
   "outputs": [],
   "source": [
    "#Creating a alpha shape to create a more complex hull\n",
    "alphaValue = 2\n",
    "alphaMesh = alphashape(mesh.vertices, alphaValue)\n",
    "#alphaMesh.invert()\n",
    "alphaMesh.show()"
   ]
  },
  {
   "cell_type": "code",
   "execution_count": 57,
   "metadata": {},
   "outputs": [],
   "source": [
    "mesh = alphaMesh"
   ]
  },
  {
   "cell_type": "markdown",
   "metadata": {},
   "source": [
    "### SDF Creation"
   ]
  },
  {
   "cell_type": "code",
   "execution_count": null,
   "metadata": {},
   "outputs": [],
   "source": [
    "import torch\n",
    "import numpy as np\n",
    "import time\n",
    "\n",
    "t0 = time.time() # keep track of how long the process takes\n",
    "sdf,sdfMesh = comptools.mesh_to_sdf_tensor(comptools.as_mesh(mesh), voxelGridSize, recenter=True, scaledownFactor=8)\n",
    "\n",
    "fixedMeshPath = os.path.join(savePath,\"sdf.obj\")\n",
    "sdfPath = fixedMeshPath[:-4] + \".npy\"\n",
    "tfPath = fixedMeshPath[:-4] + \".pt\"\n",
    "\n",
    "# output\n",
    "mesh.export(os.path.join(savePath, \"gt.obj\"))\n",
    "sdfMesh.export(fixedMeshPath)\n",
    "np.save(sdfPath, sdf)\n",
    "# Tensor\n",
    "shapedData = np.reshape(sdf, [1, 1, 64, 64, 64])\n",
    "torch.save(torch.from_numpy(shapedData[:,:,:64,:64,:64]), tfPath)\n",
    "\n",
    "t1 = time.time()\n",
    "print('It takes %.4f seconds to process' % (t1-t0))\n",
    "sdfMesh.show()"
   ]
  }
 ],
 "metadata": {
  "kernelspec": {
   "display_name": "autosdf",
   "language": "python",
   "name": "python3"
  },
  "language_info": {
   "codemirror_mode": {
    "name": "ipython",
    "version": 3
   },
   "file_extension": ".py",
   "mimetype": "text/x-python",
   "name": "python",
   "nbconvert_exporter": "python",
   "pygments_lexer": "ipython3",
   "version": "3.8.20"
  }
 },
 "nbformat": 4,
 "nbformat_minor": 2
}
