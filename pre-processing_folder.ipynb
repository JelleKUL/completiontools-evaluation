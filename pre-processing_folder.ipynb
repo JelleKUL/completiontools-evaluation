{
 "cells": [
  {
   "cell_type": "markdown",
   "metadata": {},
   "source": [
    "# Paper Data Processing"
   ]
  },
  {
   "cell_type": "markdown",
   "metadata": {},
   "source": [
    "## Mesh to SDF"
   ]
  },
  {
   "cell_type": "code",
   "execution_count": 1,
   "metadata": {},
   "outputs": [
    {
     "name": "stdout",
     "output_type": "stream",
     "text": [
      "Jupyter environment detected. Enabling Open3D WebVisualizer.\n",
      "[Open3D INFO] WebRTC GUI backend enabled.\n",
      "[Open3D INFO] WebRTCWindowSystem: HTTP handshake server disabled.\n",
      "[]\n"
     ]
    }
   ],
   "source": [
    "import os\n",
    "from pathlib import Path\n",
    "import trimesh\n",
    "import comptools\n",
    "import torch\n",
    "import numpy as np\n",
    "\n",
    "# The path to the mesh file\n",
    "input_data_folder_path = r\"/home/student/Documents/Data/Input_puntenwolken/synthetisch_input/\"\n",
    "saveFolder = r\"/home/student/Documents/Data/meshes_data/synthetisch_meshes_test/\"\n",
    "\n",
    "voxelGridSize = 64\n",
    "\n",
    "input_list = []\n",
    "for subdir, dirs, files in os.walk(input_data_folder_path):\n",
    "    for file in files:\n",
    "        #print os.path.join(subdir, file)\n",
    "        filepath = subdir + os.sep + file\n",
    "\n",
    "        if filepath.endswith(\".obj\"):\n",
    "            #print (filepath)\n",
    "            input_list.append(filepath)\n",
    "\n",
    "print(input_list)"
   ]
  },
  {
   "cell_type": "code",
   "execution_count": null,
   "metadata": {},
   "outputs": [
    {
     "name": "stdout",
     "output_type": "stream",
     "text": [
      "buis_recht recht_versmal_lang\n",
      "Folder does not exist, creating the folder: /home/student/Documents/Data/meshes_data/synthetisch_meshes_test/buis_recht/recht_versmal_lang\n",
      "buis_recht recht_bocht_180\n",
      "Folder does not exist, creating the folder: /home/student/Documents/Data/meshes_data/synthetisch_meshes_test/buis_recht/recht_bocht_180\n"
     ]
    }
   ],
   "source": [
    "for i in range(len(input_list)):\n",
    "    input_path = input_list[i]\n",
    "    # Get the shape completion input\n",
    "    fileFolder = Path(input_path).parent.name\n",
    "    fileName = Path(input_path).stem\n",
    "    print(fileFolder,fileName)\n",
    "    savePath = os.path.join(saveFolder, fileFolder, fileName)\n",
    "    comptools.make_dir_if_not_exist(savePath)\n",
    "    # import mesh\n",
    "    mesh = trimesh.load(input_path)\n",
    "    # Recenter the mesh to the origin\n",
    "    mesh.apply_translation(-mesh.bounding_box.centroid)\n",
    "    # Normalize the scale of the mesh\n",
    "    # Scale so the bounding box fits within a unit cube\n",
    "    bounding_box_extents = mesh.bounding_box.extents\n",
    "    scale_factor = 1.0 / max(bounding_box_extents)\n",
    "    mesh.apply_scale(scale_factor)\n",
    "\n",
    "    sdf,sdfMesh = comptools.mesh_to_sdf_tensor(comptools.as_mesh(mesh), voxelGridSize, recenter=True, scaledownFactor=8)\n",
    "\n",
    "    fixedMeshPath = os.path.join(savePath,\"sdf.obj\")\n",
    "    sdfPath = fixedMeshPath[:-4] + \".npy\"\n",
    "    tfPath = fixedMeshPath[:-4] + \".pt\"\n",
    "\n",
    "    # output\n",
    "    mesh.export(os.path.join(savePath, \"gt.obj\"))\n",
    "    sdfMesh.export(fixedMeshPath)\n",
    "    np.save(sdfPath, sdf)\n",
    "    # Tensor\n",
    "    shapedData = np.reshape(sdf, [1, 1, 64, 64, 64])\n",
    "    torch.save(torch.from_numpy(shapedData[:,:,:64,:64,:64]), tfPath)\n",
    "\n"
   ]
  }
 ],
 "metadata": {
  "kernelspec": {
   "display_name": "autosdf",
   "language": "python",
   "name": "python3"
  },
  "language_info": {
   "codemirror_mode": {
    "name": "ipython",
    "version": 3
   },
   "file_extension": ".py",
   "mimetype": "text/x-python",
   "name": "python",
   "nbconvert_exporter": "python",
   "pygments_lexer": "ipython3",
   "version": "3.8.11"
  }
 },
 "nbformat": 4,
 "nbformat_minor": 2
}
